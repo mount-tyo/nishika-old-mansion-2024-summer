{
 "cells": [
  {
   "cell_type": "code",
   "execution_count": 1,
   "metadata": {},
   "outputs": [],
   "source": [
    "from pathlib import Path\n",
    "import glob\n",
    "import matplotlib.pyplot as plt\n",
    "import numpy as np\n",
    "import pandas as pd"
   ]
  },
  {
   "cell_type": "code",
   "execution_count": 5,
   "metadata": {},
   "outputs": [
    {
     "name": "stderr",
     "output_type": "stream",
     "text": [
      "/var/folders/pt/jn61v2156tb3d9q0byr54_q40000gn/T/ipykernel_16642/1880614035.py:6: DtypeWarning: Columns (11) have mixed types. Specify dtype option on import or set low_memory=False.\n",
      "  train_df = pd.read_csv(path)\n",
      "/var/folders/pt/jn61v2156tb3d9q0byr54_q40000gn/T/ipykernel_16642/1880614035.py:6: DtypeWarning: Columns (11) have mixed types. Specify dtype option on import or set low_memory=False.\n",
      "  train_df = pd.read_csv(path)\n"
     ]
    }
   ],
   "source": [
    "data_dir = Path(\"./data/\")\n",
    "\n",
    "train_csv_paths = glob.glob(str(data_dir / \"train\" / \"*.csv\"))\n",
    "train_df_list = []\n",
    "for path in train_csv_paths:\n",
    "    train_df = pd.read_csv(path)\n",
    "    train_df_list.append(train_df)\n",
    "\n",
    "train_df = pd.concat(train_df_list)\n",
    "train_df.reset_index(drop=True, inplace=True)\n",
    "\n",
    "test_df = pd.read_csv(data_dir / \"test.csv\")\n",
    "sub_df = pd.read_csv(data_dir / \"sample_submission.csv\")"
   ]
  },
  {
   "cell_type": "code",
   "execution_count": 4,
   "metadata": {},
   "outputs": [
    {
     "name": "stdout",
     "output_type": "stream",
     "text": [
      "<class 'pandas.core.frame.DataFrame'>\n",
      "RangeIndex: 1009271 entries, 0 to 1009270\n",
      "Data columns (total 29 columns):\n",
      " #   Column        Non-Null Count    Dtype  \n",
      "---  ------        --------------    -----  \n",
      " 0   ID            1009271 non-null  int64  \n",
      " 1   種類            1009271 non-null  object \n",
      " 2   価格情報区分        1009271 non-null  object \n",
      " 3   地域            0 non-null        float64\n",
      " 4   市区町村コード       1009271 non-null  int64  \n",
      " 5   都道府県名         1009271 non-null  object \n",
      " 6   市区町村名         1009271 non-null  object \n",
      " 7   地区名           1008610 non-null  object \n",
      " 8   最寄駅：名称        998620 non-null   object \n",
      " 9   最寄駅：距離（分）     964322 non-null   object \n",
      " 10  間取り           976570 non-null   object \n",
      " 11  面積（㎡）         1009271 non-null  object \n",
      " 12  土地の形状         0 non-null        float64\n",
      " 13  間口            0 non-null        float64\n",
      " 14  延床面積（㎡）       0 non-null        float64\n",
      " 15  建築年           979931 non-null   object \n",
      " 16  建物の構造         977046 non-null   object \n",
      " 17  用途            734705 non-null   object \n",
      " 18  今後の利用目的       463475 non-null   object \n",
      " 19  前面道路：方位       0 non-null        float64\n",
      " 20  前面道路：種類       0 non-null        float64\n",
      " 21  前面道路：幅員（ｍ）    0 non-null        float64\n",
      " 22  都市計画          958982 non-null   object \n",
      " 23  建ぺい率（％）       807003 non-null   float64\n",
      " 24  容積率（％）        807003 non-null   float64\n",
      " 25  取引時点          1009271 non-null  object \n",
      " 26  改装            748239 non-null   object \n",
      " 27  取引の事情等        19852 non-null    object \n",
      " 28  取引価格（総額）_log  1009271 non-null  float64\n",
      "dtypes: float64(10), int64(2), object(17)\n",
      "memory usage: 223.3+ MB\n"
     ]
    }
   ],
   "source": [
    "train_df.info()"
   ]
  }
 ],
 "metadata": {
  "kernelspec": {
   "display_name": ".venv",
   "language": "python",
   "name": "python3"
  },
  "language_info": {
   "codemirror_mode": {
    "name": "ipython",
    "version": 3
   },
   "file_extension": ".py",
   "mimetype": "text/x-python",
   "name": "python",
   "nbconvert_exporter": "python",
   "pygments_lexer": "ipython3",
   "version": "3.12.2"
  }
 },
 "nbformat": 4,
 "nbformat_minor": 2
}
