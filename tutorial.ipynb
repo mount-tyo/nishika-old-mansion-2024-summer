{
 "cells": [
  {
   "cell_type": "markdown",
   "metadata": {},
   "source": [
    "# Tutorial\n",
    "\n",
    "- model\n",
    "  - LightGBM\n",
    "- Preprocess\n",
    "  - Drop columns which have nan values"
   ]
  },
  {
   "cell_type": "code",
   "execution_count": 1,
   "metadata": {},
   "outputs": [],
   "source": [
    "from pathlib import Path\n",
    "import glob\n",
    "import matplotlib.pyplot as plt\n",
    "from datetime import datetime\n",
    "import numpy as np\n",
    "import pandas as pd\n",
    "import japanize_matplotlib\n",
    "import lightgbm as lgb\n",
    "from sklearn.metrics import mean_absolute_error\n",
    "from sklearn.preprocessing import LabelEncoder, OneHotEncoder, OrdinalEncoder\n",
    "\n",
    "from utils import load_data"
   ]
  },
  {
   "cell_type": "markdown",
   "metadata": {},
   "source": [
    "## Constants"
   ]
  },
  {
   "cell_type": "code",
   "execution_count": 4,
   "metadata": {},
   "outputs": [],
   "source": [
    "# 現在時刻を取得\n",
    "now = datetime.now()\n",
    "\n",
    "# 文字列に変換 (例: \"2024-07-23 18:57:30\")\n",
    "now_str = now.strftime(\"%Y-%m-%d_%H-%M-%S\")\n",
    "\n",
    "DATA_DIR = Path(\"./data/\")\n",
    "OUTPUT_DIR = Path(\"./logs/\")\n",
    "RESULT_DIR = OUTPUT_DIR / now_str\n",
    "SEED = 42\n",
    "TARGET = \"取引価格（総額）_log\""
   ]
  },
  {
   "cell_type": "markdown",
   "metadata": {},
   "source": [
    "## Preprocess"
   ]
  },
  {
   "cell_type": "code",
   "execution_count": null,
   "metadata": {},
   "outputs": [],
   "source": [
    "# Load data\n",
    "train_df, test_df, sub_df = load_data(DATA_DIR)\n",
    "\n",
    "# trainとtestを結合する\n",
    "df = pd.concat([train_df, test_df])\n",
    "\n",
    "# typeを確認する\n",
    "df.info()"
   ]
  },
  {
   "cell_type": "code",
   "execution_count": null,
   "metadata": {},
   "outputs": [],
   "source": [
    "# nullが含まれるカラムを特定する\n",
    "rm_cols = []\n",
    "rm_cols += df.columns[df.isnull().sum() >= 1].tolist()\n",
    "\n",
    "# 削除対象のカラムリストから目的変数とIDを除外する\n",
    "if TARGET in rm_cols:\n",
    "    rm_cols.remove(TARGET)\n",
    "if \"ID\" in rm_cols:\n",
    "    rm_cols.remove(\"ID\")\n",
    "\n",
    "rm_cols"
   ]
  },
  {
   "cell_type": "code",
   "execution_count": null,
   "metadata": {},
   "outputs": [],
   "source": [
    "# 不要なカラムを削除する\n",
    "df.drop(rm_cols, axis=1, inplace=True)\n",
    "df.info()"
   ]
  },
  {
   "cell_type": "code",
   "execution_count": null,
   "metadata": {},
   "outputs": [],
   "source": [
    "# 取引時点でソートし，indexを振り直す\n",
    "df.sort_values(\"取引時点\", inplace=True)\n",
    "df.reset_index(drop=True, inplace=True)\n",
    "df.head()"
   ]
  },
  {
   "cell_type": "code",
   "execution_count": null,
   "metadata": {},
   "outputs": [],
   "source": [
    "df[\"取引時点\"].unique()"
   ]
  },
  {
   "cell_type": "code",
   "execution_count": null,
   "metadata": {},
   "outputs": [],
   "source": [
    "val_min_idx = min(df[df['取引時点'].str.contains('2023年第1四半期|2023年第2四半期', regex=True)].index)\n",
    "test_min_idx = min(df[df['取引時点'].str.contains('2023年第3四半期|2023年第4四半期', regex=True)].index)\n",
    "\n",
    "val_min_idx, test_min_idx"
   ]
  },
  {
   "cell_type": "code",
   "execution_count": null,
   "metadata": {},
   "outputs": [],
   "source": [
    "obj_cols = df.columns[df.dtypes == \"object\"].tolist()\n",
    "obj_cols"
   ]
  },
  {
   "cell_type": "code",
   "execution_count": null,
   "metadata": {},
   "outputs": [],
   "source": [
    "df[obj_cols] = df[obj_cols].astype(str)\n",
    "df.info()"
   ]
  },
  {
   "cell_type": "code",
   "execution_count": null,
   "metadata": {},
   "outputs": [],
   "source": [
    "# Dtypeがobjectのカラムをintに変換する\n",
    "for col in obj_cols:\n",
    "    le = LabelEncoder()\n",
    "    df[col] = le.fit_transform(df[col])\n",
    "\n",
    "df.head()"
   ]
  },
  {
   "cell_type": "code",
   "execution_count": null,
   "metadata": {},
   "outputs": [],
   "source": [
    "# Split train, valid, test data\n",
    "train_df = df.iloc[:val_min_idx, :]\n",
    "val_df = df.iloc[val_min_idx:test_min_idx, :]\n",
    "test_df = df.iloc[test_min_idx:, :]\n",
    "\n",
    "display(train_df.shape, val_df.shape, test_df.shape)"
   ]
  },
  {
   "cell_type": "code",
   "execution_count": null,
   "metadata": {},
   "outputs": [],
   "source": [
    "# 特徴量を選定する\n",
    "feat_cols = df.columns.tolist()\n",
    "feat_cols.remove(TARGET)\n",
    "feat_cols.remove(\"ID\")\n",
    "feat_cols"
   ]
  },
  {
   "cell_type": "code",
   "execution_count": null,
   "metadata": {},
   "outputs": [],
   "source": [
    "# 学習＿検証・評価データを作成する\n",
    "train_x = train_df[feat_cols]\n",
    "train_y = train_df[TARGET]\n",
    "val_x = val_df[feat_cols]\n",
    "val_y = val_df[TARGET]\n",
    "test_x = test_df[feat_cols]\n",
    "test_y = test_df[TARGET]"
   ]
  },
  {
   "cell_type": "code",
   "execution_count": null,
   "metadata": {},
   "outputs": [],
   "source": [
    "lgb_params = {\n",
    "    'objective': 'regression',\n",
    "    'metric': 'mae', #コンペの評価関数を設定\n",
    "    'num_leaves': 42,\n",
    "    'max_depth': 7,\n",
    "    \"feature_fraction\": 0.8,\n",
    "    'subsample_freq': 1,\n",
    "    \"bagging_fraction\": 0.95,\n",
    "    'min_data_in_leaf': 2,\n",
    "    'learning_rate': 0.1,\n",
    "    \"boosting\": \"gbdt\",\n",
    "    \"lambda_l1\": 0.1,\n",
    "    \"lambda_l2\": 10,\n",
    "    \"verbosity\": -1,\n",
    "    \"random_state\": 42,\n",
    "    \"num_boost_round\": 50000, #学習イテレーション数\n",
    "    \"early_stopping_rounds\": 100\n",
    "}\n",
    "\n",
    "train_data = lgb.Dataset(train_x, label=train_y)\n",
    "val_data = lgb.Dataset(val_x, label=val_y)\n",
    "\n",
    "model = lgb.train(\n",
    "    lgb_params, train_data, categorical_feature=feat_cols, valid_sets=[train_data, val_data], callbacks=[lgb.log_evaluation(100)]\n",
    "    )\n",
    "\n",
    "val_pred = model.predict(val_x, num_iteration=model.best_iteration)\n",
    "score = mean_absolute_error(val_y, val_pred)\n",
    "\n",
    "pred_df = pd.DataFrame(sorted(zip(val_x.index, val_pred, val_y)), columns=['index', 'predict', 'actual'])\n",
    "\n",
    "feature_imp = pd.DataFrame(sorted(zip(model.feature_importance(), train_x.columns)), columns=['importance', 'feature'])\n",
    "\n",
    "print(f'score: {score:.4f}')"
   ]
  },
  {
   "cell_type": "code",
   "execution_count": null,
   "metadata": {},
   "outputs": [],
   "source": [
    "lgb.plot_importance(model, figsize=(12,8), max_num_features=50, importance_type='gain')\n",
    "plt.tight_layout()\n",
    "plt.savefig('feature_importance.png')\n",
    "plt.show()\n",
    "plt.close()"
   ]
  },
  {
   "cell_type": "code",
   "execution_count": null,
   "metadata": {},
   "outputs": [],
   "source": [
    "test_pred = model.predict(test_x, num_iteration=model.best_iteration)\n",
    "type(test_pred)"
   ]
  },
  {
   "cell_type": "code",
   "execution_count": null,
   "metadata": {},
   "outputs": [],
   "source": [
    "test_df[TARGET] = test_pred"
   ]
  },
  {
   "cell_type": "code",
   "execution_count": null,
   "metadata": {},
   "outputs": [],
   "source": [
    "sub_df = pd.merge(sub_df[['ID']], test_df[['ID', TARGET]], on='ID')\n",
    "sub_df.to_csv('test_submission.csv', index=False)"
   ]
  }
 ],
 "metadata": {
  "kernelspec": {
   "display_name": ".venv",
   "language": "python",
   "name": "python3"
  },
  "language_info": {
   "codemirror_mode": {
    "name": "ipython",
    "version": 3
   },
   "file_extension": ".py",
   "mimetype": "text/x-python",
   "name": "python",
   "nbconvert_exporter": "python",
   "pygments_lexer": "ipython3",
   "version": "3.12.2"
  }
 },
 "nbformat": 4,
 "nbformat_minor": 2
}
